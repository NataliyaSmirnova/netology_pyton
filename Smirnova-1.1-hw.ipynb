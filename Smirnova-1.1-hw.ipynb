{
 "cells": [
  {
   "cell_type": "markdown",
   "metadata": {},
   "source": [
    "**Задание 1**. Даны 2 строки: *long_phrase* и *short_phrase*. \n",
    "Напишите код, который проверяет действительно ли длинная фраза *long_phrase* длиннее короткой *short_phrase*. И выводит *True* или *False* в зависимости от результата сравнения."
   ]
  },
  {
   "cell_type": "code",
   "execution_count": 12,
   "metadata": {},
   "outputs": [
    {
     "data": {
      "text/plain": [
       "True"
      ]
     },
     "execution_count": 12,
     "metadata": {},
     "output_type": "execute_result"
    }
   ],
   "source": [
    "long_phrase = 'Насколько проще было бы писать программы, если бы не заказчики'\n",
    "short_phrase = '640Кб должно хватить для любых задач. Билл Гейтс (по легенде)'\n",
    "\n",
    "len(long_phrase) > len(short_phrase)"
   ]
  },
  {
   "cell_type": "markdown",
   "metadata": {},
   "source": [
    "**Задание 2**. Дано значение объема файла в байтах. Напишите перевод этого значения в мегабайты в формате: \"*Объем файла равен 213.68Mb*\""
   ]
  },
  {
   "cell_type": "code",
   "execution_count": 49,
   "metadata": {},
   "outputs": [
    {
     "name": "stdout",
     "output_type": "stream",
     "text": [
      "Введите количество байт2000000\n",
      "Объем файла равен 1.9073486328125 Mb\n"
     ]
    }
   ],
   "source": [
    "byte = int (input ('Введите количество байт'))\n",
    "Mb = byte / 1024 ** 2\n",
    "            \n",
    "print ('Объем файла равен', Mb, 'Mb')"
   ]
  },
  {
   "cell_type": "markdown",
   "metadata": {},
   "source": [
    "**Задание 3**. Разработать приложение для определения знака зодиака по дате рождения. Пример:\n",
    "\n",
    "Введите месяц: март\n",
    "\n",
    "Введите число: 6\n",
    "\n",
    "Вывод:\n",
    "Рыбы"
   ]
  },
  {
   "cell_type": "code",
   "execution_count": 57,
   "metadata": {},
   "outputs": [
    {
     "name": "stdout",
     "output_type": "stream",
     "text": [
      "Введите месяцМарт\n",
      "Введите число24\n",
      "Овен\n"
     ]
    }
   ],
   "source": [
    "month = input ('Введите месяц')\n",
    "date = int (input ('Введите число'))\n",
    "\n",
    "if  month == 'Декабрь' and 22<= date <= 31 or month == 'Январь'and 1 <= date <=20:\n",
    "    print ('Козерог')\n",
    "elif month == 'Январь'and 21 <= date <= 31  or month == 'Февраль' and 1 <= date <= 20:\n",
    "    print ('Водолей')\n",
    "elif month == 'Февраль'and 21 <= date <= 29  or month == 'Март' and 1 <= date <= 20:\n",
    "    print ('Рыбы')\n",
    "elif month == 'Март'and 21 <= date <= 31  or month == 'Апрель' and 1 <= date <= 20:\n",
    "    print ('Овен')\n",
    "elif month == 'Апрель'and 21 <= date <= 30 or month == 'Май' and 1 <= date <= 20:\n",
    "    print ('Телец')\n",
    "elif month == 'Май'and 21 <= date <= 31  or month == 'Июнь' and 1 <= date <= 21:\n",
    "    print ('Близнецы')\n",
    "elif month == 'Июнь'and 22 <= date <= 30  or month == 'Июль' and 1 <= date <= 22:\n",
    "    print ('Рак')\n",
    "elif month == 'Июль'and 23 <= date <= 31  or month == 'Август' and 1 <= date <= 23:\n",
    "    print ('Лев')\n",
    "elif month == 'Августа'and 24 <= date <= 30 or month == 'Сентябрь' and 1 <= date <= 23:\n",
    "    print ('Дева')\n",
    "elif month == 'Сентябрь'and 24 <= date <= 30 or month == 'Октябрь' and 1 <= date <= 23:\n",
    "    print ('Весы')\n",
    "elif month == 'Октябрь'and 24 <= date <= 30 or month == 'Ноябрь' and 1 <= date <= 22:\n",
    "    print ('Скорпион')\n",
    "elif month == 'Ноябрь'and 23 <= date <= 30 or month == 'Декабрь' and 1 <= date <= 21:\n",
    "    print ('Стрелец')\n",
    "else:\n",
    "    print ('Некорректная дата')"
   ]
  },
  {
   "cell_type": "markdown",
   "metadata": {},
   "source": [
    "**Задание 4**. Нужно разработать приложение для финансового планирования.\n",
    "Приложение учитывает сколько уходит на ипотеку, \"на жизнь\" и сколько нужно отложить на пенсию.\n",
    "Пользователь вводит:\n",
    "- заработанную плату в месяц.\n",
    "- сколько процентов от ЗП уходит на ипотеку.\n",
    "- сколько процентов от ЗП уходит \"на жизнь\".\n",
    "- сколько раз приходит премия в год.\n",
    "\n",
    "Остальная часть заработанной платы откладывается на пенсию.\n",
    "\n",
    "Также пользователю приходит премия в размере зарплаты, от которой половина уходит на отпуск, а вторая половина откладывается.\n",
    "\n",
    "Программа должна учитывать сколько премий было в год.\n",
    "\n",
    "Нужно вывести сколько денег тратит пользователь на ипотеку и сколько он накопит за год.\n",
    "\n",
    "Пример:\n",
    "\n",
    "Введите заработанную плату в месяц: 100000\n",
    "\n",
    "Введите сколько процентов уходит на ипотеку: 30\n",
    "\n",
    "Введите сколько процентов уходит на жизнь: 50\n",
    "\n",
    "Введите количество премий за год: 2\n",
    "\n",
    "Вывод:\n",
    "На ипотеку было потрачено: 360000 рублей\n",
    "Было накоплено: 340000 рублей"
   ]
  },
  {
   "cell_type": "code",
   "execution_count": 43,
   "metadata": {},
   "outputs": [
    {
     "name": "stdout",
     "output_type": "stream",
     "text": [
      "Введите зарплату100000\n",
      "Введите сколько % уходит на ипотеку30\n",
      "Введите сколько процентов уходит на жизнь50\n",
      "Введите количество премий за год2\n",
      "Было накоплено 240000.0 рублей На ипотеку потрачено 360000.0 рублей\n"
     ]
    }
   ],
   "source": [
    "salary = int(input ('Введите зарплату'))\n",
    "mortgage_salary = int (input ('Введите сколько % уходит на ипотеку'))\n",
    "mortgage = mortgage_salary / 100 * salary\n",
    "for_life = int (input ('Введите сколько процентов уходит на жизнь'))\n",
    "for_life_per_year = for_life / 100 * salary * 12 + bonus / 2 * salary\n",
    "bonus = int (input ('Введите количество премий за год'))\n",
    "mortgage_per_year = mortgage * 12\n",
    "savings = salary * (12 + bonus/2) - for_life_per_year - mortgage_per_year\n",
    "print ('Было накоплено' , savings, 'рублей', 'На ипотеку потрачено', mortgage_per_year , 'рублей')"
   ]
  },
  {
   "cell_type": "code",
   "execution_count": null,
   "metadata": {},
   "outputs": [],
   "source": []
  }
 ],
 "metadata": {
  "kernelspec": {
   "display_name": "Python 3",
   "language": "python",
   "name": "python3"
  },
  "language_info": {
   "codemirror_mode": {
    "name": "ipython",
    "version": 3
   },
   "file_extension": ".py",
   "mimetype": "text/x-python",
   "name": "python",
   "nbconvert_exporter": "python",
   "pygments_lexer": "ipython3",
   "version": "3.7.3"
  }
 },
 "nbformat": 4,
 "nbformat_minor": 2
}
